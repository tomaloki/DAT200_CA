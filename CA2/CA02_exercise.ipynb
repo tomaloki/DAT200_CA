{
 "cells": [
  {
   "cell_type": "markdown",
   "metadata": {},
   "source": [
    "# CA02 - Training Perceptron and Adaline models"
   ]
  },
  {
   "cell_type": "markdown",
   "metadata": {},
   "source": [
    "Make sure you: a) describe briefly what you intend to do using markdown cells; b) comment your code properly but briefly, such that the reader can easily understand what the code is doing.\n"
   ]
  },
  {
   "cell_type": "markdown",
   "metadata": {},
   "source": [
    "## Imports"
   ]
  },
  {
   "cell_type": "code",
   "execution_count": 982,
   "metadata": {
    "ExecuteTime": {
     "end_time": "2021-01-08T11:32:04.233218Z",
     "start_time": "2021-01-08T11:32:04.230702Z"
    }
   },
   "outputs": [],
   "source": [
    "import pandas as pd\n",
    "import numpy as np\n",
    "import matplotlib.pyplot as plt\n",
    "import seaborn as sns\n",
    "\n",
    "# Import the relevant classes from adaline.py and perceptron.py in the classifiers folder"
   ]
  },
  {
   "cell_type": "markdown",
   "metadata": {},
   "source": [
    "## Loading and exploring data\n",
    "\n",
    "\n",
    "Visualise the raw data with appropriate plots and inspect it for possible outliers or inconsistencies. Comment briefly on what you see and how this will impact the performance of the perceptron and adaline. For this use no more than three sentences."
   ]
  },
  {
   "cell_type": "code",
   "execution_count": 983,
   "metadata": {
    "ExecuteTime": {
     "end_time": "2021-01-07T12:59:35.787001Z",
     "start_time": "2021-01-07T12:59:35.783601Z"
    }
   },
   "outputs": [
    {
     "data": {
      "text/plain": "     fixed acidity  volatile acidity  citric acid  residual sugar  chlorides  \\\n0             10.4             0.520         0.45             2.0      0.080   \n1              7.5             0.570         0.02             2.6      0.077   \n2              6.6             0.695         0.00             2.1      0.075   \n3              7.9             0.545         0.06             4.0      0.087   \n4              8.0             0.180         0.37             0.9      0.049   \n..             ...               ...          ...             ...        ...   \n794            7.2             0.620         0.06             2.7      0.077   \n795            6.9             0.510         0.23             2.0      0.072   \n796            6.6             0.960         0.00             1.8      0.082   \n797            8.3             0.650         0.10             2.9      0.089   \n798            8.0             0.810         0.25             3.4      0.076   \n\n     free sulfur dioxide  total sulfur dioxide  density    pH  sulphates  \\\n0                    6.0                  13.0  0.99774  3.22       0.76   \n1                   11.0                  35.0  0.99557  3.36       0.62   \n2                   12.0                  56.0  0.99680  3.49       0.67   \n3                   27.0                  61.0  0.99650  3.36       0.67   \n4                   36.0                 109.0  0.99007  2.89       0.44   \n..                   ...                   ...      ...   ...        ...   \n794                 15.0                  85.0  0.99746  3.51       0.54   \n795                 13.0                  22.0  0.99438  3.40       0.84   \n796                  5.0                  16.0  0.99360  3.50       0.44   \n797                 17.0                  40.0  0.99803  3.29       0.55   \n798                 34.0                  85.0  0.99668  3.19       0.42   \n\n     alcohol  class  \n0       11.4      1  \n1       10.8      1  \n2        9.2      0  \n3       10.7      1  \n4       12.7      1  \n..       ...    ...  \n794      9.5      0  \n795     11.2      1  \n796     11.9      1  \n797      9.5      0  \n798      9.2      0  \n\n[799 rows x 12 columns]",
      "text/html": "<div>\n<style scoped>\n    .dataframe tbody tr th:only-of-type {\n        vertical-align: middle;\n    }\n\n    .dataframe tbody tr th {\n        vertical-align: top;\n    }\n\n    .dataframe thead th {\n        text-align: right;\n    }\n</style>\n<table border=\"1\" class=\"dataframe\">\n  <thead>\n    <tr style=\"text-align: right;\">\n      <th></th>\n      <th>fixed acidity</th>\n      <th>volatile acidity</th>\n      <th>citric acid</th>\n      <th>residual sugar</th>\n      <th>chlorides</th>\n      <th>free sulfur dioxide</th>\n      <th>total sulfur dioxide</th>\n      <th>density</th>\n      <th>pH</th>\n      <th>sulphates</th>\n      <th>alcohol</th>\n      <th>class</th>\n    </tr>\n  </thead>\n  <tbody>\n    <tr>\n      <th>0</th>\n      <td>10.4</td>\n      <td>0.520</td>\n      <td>0.45</td>\n      <td>2.0</td>\n      <td>0.080</td>\n      <td>6.0</td>\n      <td>13.0</td>\n      <td>0.99774</td>\n      <td>3.22</td>\n      <td>0.76</td>\n      <td>11.4</td>\n      <td>1</td>\n    </tr>\n    <tr>\n      <th>1</th>\n      <td>7.5</td>\n      <td>0.570</td>\n      <td>0.02</td>\n      <td>2.6</td>\n      <td>0.077</td>\n      <td>11.0</td>\n      <td>35.0</td>\n      <td>0.99557</td>\n      <td>3.36</td>\n      <td>0.62</td>\n      <td>10.8</td>\n      <td>1</td>\n    </tr>\n    <tr>\n      <th>2</th>\n      <td>6.6</td>\n      <td>0.695</td>\n      <td>0.00</td>\n      <td>2.1</td>\n      <td>0.075</td>\n      <td>12.0</td>\n      <td>56.0</td>\n      <td>0.99680</td>\n      <td>3.49</td>\n      <td>0.67</td>\n      <td>9.2</td>\n      <td>0</td>\n    </tr>\n    <tr>\n      <th>3</th>\n      <td>7.9</td>\n      <td>0.545</td>\n      <td>0.06</td>\n      <td>4.0</td>\n      <td>0.087</td>\n      <td>27.0</td>\n      <td>61.0</td>\n      <td>0.99650</td>\n      <td>3.36</td>\n      <td>0.67</td>\n      <td>10.7</td>\n      <td>1</td>\n    </tr>\n    <tr>\n      <th>4</th>\n      <td>8.0</td>\n      <td>0.180</td>\n      <td>0.37</td>\n      <td>0.9</td>\n      <td>0.049</td>\n      <td>36.0</td>\n      <td>109.0</td>\n      <td>0.99007</td>\n      <td>2.89</td>\n      <td>0.44</td>\n      <td>12.7</td>\n      <td>1</td>\n    </tr>\n    <tr>\n      <th>...</th>\n      <td>...</td>\n      <td>...</td>\n      <td>...</td>\n      <td>...</td>\n      <td>...</td>\n      <td>...</td>\n      <td>...</td>\n      <td>...</td>\n      <td>...</td>\n      <td>...</td>\n      <td>...</td>\n      <td>...</td>\n    </tr>\n    <tr>\n      <th>794</th>\n      <td>7.2</td>\n      <td>0.620</td>\n      <td>0.06</td>\n      <td>2.7</td>\n      <td>0.077</td>\n      <td>15.0</td>\n      <td>85.0</td>\n      <td>0.99746</td>\n      <td>3.51</td>\n      <td>0.54</td>\n      <td>9.5</td>\n      <td>0</td>\n    </tr>\n    <tr>\n      <th>795</th>\n      <td>6.9</td>\n      <td>0.510</td>\n      <td>0.23</td>\n      <td>2.0</td>\n      <td>0.072</td>\n      <td>13.0</td>\n      <td>22.0</td>\n      <td>0.99438</td>\n      <td>3.40</td>\n      <td>0.84</td>\n      <td>11.2</td>\n      <td>1</td>\n    </tr>\n    <tr>\n      <th>796</th>\n      <td>6.6</td>\n      <td>0.960</td>\n      <td>0.00</td>\n      <td>1.8</td>\n      <td>0.082</td>\n      <td>5.0</td>\n      <td>16.0</td>\n      <td>0.99360</td>\n      <td>3.50</td>\n      <td>0.44</td>\n      <td>11.9</td>\n      <td>1</td>\n    </tr>\n    <tr>\n      <th>797</th>\n      <td>8.3</td>\n      <td>0.650</td>\n      <td>0.10</td>\n      <td>2.9</td>\n      <td>0.089</td>\n      <td>17.0</td>\n      <td>40.0</td>\n      <td>0.99803</td>\n      <td>3.29</td>\n      <td>0.55</td>\n      <td>9.5</td>\n      <td>0</td>\n    </tr>\n    <tr>\n      <th>798</th>\n      <td>8.0</td>\n      <td>0.810</td>\n      <td>0.25</td>\n      <td>3.4</td>\n      <td>0.076</td>\n      <td>34.0</td>\n      <td>85.0</td>\n      <td>0.99668</td>\n      <td>3.19</td>\n      <td>0.42</td>\n      <td>9.2</td>\n      <td>0</td>\n    </tr>\n  </tbody>\n</table>\n<p>799 rows × 12 columns</p>\n</div>"
     },
     "execution_count": 983,
     "metadata": {},
     "output_type": "execute_result"
    }
   ],
   "source": [
    "# Loading the dataset which will be used throughout this assignmen\n",
    "wine_data = pd.read_csv('wine.csv')\n",
    "\n",
    "# Observing how the data looks like in a table\n",
    "wine_data"
   ]
  },
  {
   "cell_type": "markdown",
   "metadata": {},
   "source": [
    "We see from the table view above that the shape of the data is 799 rows x 12 columns. In other words, we have\n",
    "\n",
    "* 799 samples\n",
    "* 12 features"
   ]
  },
  {
   "cell_type": "code",
   "execution_count": 984,
   "metadata": {},
   "outputs": [
    {
     "name": "stdout",
     "output_type": "stream",
     "text": [
      "<class 'pandas.core.frame.DataFrame'>\n",
      "RangeIndex: 799 entries, 0 to 798\n",
      "Data columns (total 12 columns):\n",
      " #   Column                Non-Null Count  Dtype  \n",
      "---  ------                --------------  -----  \n",
      " 0   fixed acidity         799 non-null    float64\n",
      " 1   volatile acidity      799 non-null    float64\n",
      " 2   citric acid           799 non-null    float64\n",
      " 3   residual sugar        799 non-null    float64\n",
      " 4   chlorides             799 non-null    float64\n",
      " 5   free sulfur dioxide   799 non-null    float64\n",
      " 6   total sulfur dioxide  799 non-null    float64\n",
      " 7   density               799 non-null    float64\n",
      " 8   pH                    799 non-null    float64\n",
      " 9   sulphates             799 non-null    float64\n",
      " 10  alcohol               799 non-null    float64\n",
      " 11  class                 799 non-null    int64  \n",
      "dtypes: float64(11), int64(1)\n",
      "memory usage: 75.0 KB\n"
     ]
    }
   ],
   "source": [
    "# Observing a more detailed overview of the data.\n",
    "wine_data.info()"
   ]
  },
  {
   "cell_type": "markdown",
   "metadata": {},
   "source": [
    "**To summarize, we have the following features in the dataset:**\n",
    "\n",
    "* *column 0* = fixed acidity - continuous\n",
    "\n",
    "* *column 1* = volatile acidity - continuous\n",
    "\n",
    "* *column 2* = citric acid - continuous\n",
    "\n",
    "* *column 3* = residual sugar - continuous\n",
    "\n",
    "* *column 4* = chlorides - continuous\n",
    "\n",
    "* *column 5* = free sulfur dioxide - continuous\n",
    "\n",
    "* *column 6* = total sulfur dioxide - continuous\n",
    "\n",
    "* *column 7* = density - continuous\n",
    "\n",
    "* *column 8* = pH - continuous\n",
    "\n",
    "* *column 9* = sulphates - continuous\n",
    "\n",
    "* *column 10* = alcohol - continuous\n",
    "\n",
    "* *column 11* = Class variable (1: wine class 1, 0: wine class 0) - categorical"
   ]
  },
  {
   "cell_type": "markdown",
   "metadata": {},
   "source": [
    "Checking if there are any outliers present in the dataset"
   ]
  },
  {
   "cell_type": "code",
   "execution_count": 985,
   "metadata": {},
   "outputs": [
    {
     "data": {
      "text/plain": "fixed acidity           0\nvolatile acidity        0\ncitric acid             0\nresidual sugar          0\nchlorides               0\nfree sulfur dioxide     0\ntotal sulfur dioxide    0\ndensity                 0\npH                      0\nsulphates               0\nalcohol                 0\nclass                   0\ndtype: int64"
     },
     "execution_count": 985,
     "metadata": {},
     "output_type": "execute_result"
    }
   ],
   "source": [
    "wine_data.isna().sum()"
   ]
  },
  {
   "cell_type": "markdown",
   "metadata": {},
   "source": [
    "Observing the distribution of the values for some of the features"
   ]
  },
  {
   "cell_type": "code",
   "execution_count": 986,
   "metadata": {},
   "outputs": [],
   "source": [
    "wine_data_class = pd.DataFrame(wine_data['class'].value_counts().reset_index().values, columns=['class', 'count'])"
   ]
  },
  {
   "cell_type": "code",
   "execution_count": 987,
   "metadata": {},
   "outputs": [
    {
     "data": {
      "text/plain": "<AxesSubplot:xlabel='class', ylabel='count'>"
     },
     "execution_count": 987,
     "metadata": {},
     "output_type": "execute_result"
    },
    {
     "data": {
      "text/plain": "<Figure size 1440x576 with 1 Axes>",
      "image/png": "[encoded data removed]"
     },
     "metadata": {
      "needs_background": "light"
     },
     "output_type": "display_data"
    }
   ],
   "source": [
    "fig, ax = plt.subplots(figsize=(20, 8))\n",
    "sns.barplot(data=wine_data_class, x='class', y='count')"
   ]
  },
  {
   "cell_type": "markdown",
   "metadata": {},
   "source": [
    "## Preprocessing data and training models\n",
    "\n",
    "- Split the data into training and test_sets, where 400 samples are used for training\n",
    "- Make sure the target values are appropriate for the Adaline and Perceptron classifiers\n",
    "\n",
    "With each of the 400 models, you should predict the classes of the unseen samples in the test data and compute the test set classification accuracy. Store the results in a (8 x 50) numpy array or a pandas dataframe."
   ]
  },
  {
   "cell_type": "markdown",
   "metadata": {},
   "source": [
    "### Adaline"
   ]
  },
  {
   "cell_type": "markdown",
   "metadata": {},
   "source": [
    "__Preprocessing:__"
   ]
  },
  {
   "cell_type": "code",
   "execution_count": 988,
   "metadata": {
    "ExecuteTime": {
     "end_time": "2021-01-07T12:59:37.012104Z",
     "start_time": "2021-01-07T12:59:37.008414Z"
    }
   },
   "outputs": [],
   "source": [
    "class AdalineGD(object):\n",
    "    def __init__(self, eta=0.01, n_iter=50, random_state=1):\n",
    "        self.eta = eta\n",
    "        self.n_iter = n_iter\n",
    "        self.random_state = random_state\n",
    "\n",
    "    def fit(self, X, y):\n",
    "        rgen = np.random.RandomState(self.random_state)\n",
    "        self.w_ = rgen.normal(loc=0.0, scale=0.01, size=1 + X.shape[1])\n",
    "        self.cost_ = []\n",
    "\n",
    "        for i in range(self.n_iter):\n",
    "            net_input = self.net_input(X)\n",
    "\n",
    "            output = self.activation(net_input)\n",
    "            errors = (y - output)\n",
    "            self.w_[1:] += self.eta * X.T.dot(errors)\n",
    "            self.w_[0] += self.eta * errors.sum()\n",
    "            cost = (errors**2).sum() / 2.0\n",
    "            self.cost_.append(cost)\n",
    "        return self\n",
    "\n",
    "    def net_input(self, X):\n",
    "        return np.dot(X, self.w_[1:]) + self.w_[0]\n",
    "\n",
    "    def activation(self, X):\n",
    "        return X\n",
    "\n",
    "    def predict(self, X):\n",
    "        return np.where(self.activation(self.net_input(X)) >= 0.0, 1, -1)"
   ]
  },
  {
   "cell_type": "code",
   "execution_count": 989,
   "outputs": [],
   "source": [
    "# Selecting Y to be what we want to predict\n",
    "X_train = wine_data.loc[:399, wine_data.columns[:10]]\n",
    "y_train = wine_data.loc[:399, wine_data.columns[11]]\n",
    "\n",
    "X_test = X_train.copy()\n",
    "y_test = y_train.copy()\n",
    "# Converting y-values to [-1, 1]\n",
    "y_train = np.where(y_train==1, 1, -1)\n",
    "y_test = np.where(y_test == 1, 1, -1)\n",
    "\n",
    "#print(f'Shape of y: {y.shape}')\n",
    "#print(f'Shape of X: {X.shape}')\n",
    "\n"
   ],
   "metadata": {
    "collapsed": false,
    "pycharm": {
     "name": "#%%\n"
    }
   }
  },
  {
   "cell_type": "code",
   "execution_count": 990,
   "outputs": [
    {
     "data": {
      "text/plain": "<Figure size 720x288 with 2 Axes>",
      "image/png": "[encoded data removed]"
     },
     "metadata": {
      "needs_background": "light"
     },
     "output_type": "display_data"
    }
   ],
   "source": [
    "fig, ax = plt.subplots(nrows=1, ncols=2, figsize=(10, 4))\n",
    "\n",
    "# Training Adaline model and plot cost functions\n",
    "ada_wine = AdalineGD(n_iter=20, eta=0.01, random_state=1).fit(X_train, y_train)\n",
    "ax[0].plot(range(1, len(ada_wine.cost_) + 1), np.log10(ada_wine.cost_), marker = 'o')\n",
    "ax[0].set_xlabel('Epochs')\n",
    "ax[0].set_ylabel('log(Sum-squared-error)')\n",
    "ax[0].set_title('Adaline - Learning rate 0.1')\n",
    "\n",
    "ada_wine_2 = AdalineGD(n_iter=20, eta=0.000001, random_state=1).fit(X_train, y_train)\n",
    "ax[1].plot(range(1, len(ada_wine_2.cost_) + 1), np.log10(ada_wine_2.cost_), marker = 'o')\n",
    "ax[1].set_xlabel('Epochs')\n",
    "ax[1].set_ylabel('log(Sum-squared-error)')\n",
    "ax[1].set_title('Adaline - Learning rate 0.0001')\n",
    "plt.show()"
   ],
   "metadata": {
    "collapsed": false,
    "pycharm": {
     "name": "#%%\n"
    }
   }
  },
  {
   "cell_type": "code",
   "execution_count": 991,
   "outputs": [],
   "source": [
    "# Scaling the data by standardizing it\n",
    "# Using the built-in NumPy methods mean and std\n",
    "\n",
    "# Making a copy of the X-values from the dataset\n",
    "X_train_scaled = np.copy(X_train)\n",
    "X_test_scaled = np.copy(X_test)\n",
    "\n",
    "# Calculating the mean throughout all the columns\n",
    "X_train_mean = np.mean(X_train_scaled, axis=0)\n",
    "\n",
    "# Calculating the standard deviation throughout all the columns\n",
    "X_train_std = np.std(X_train_scaled, axis=0)\n",
    "\n",
    "# Standardizing the data by subtracting the mean from the original X-values, and dividing it by the std\n",
    "X_train_scaled = (X_train_scaled - X_train_mean) / X_train_std\n",
    "X_test_scaled = (X_test_scaled - X_train_mean) / X_train_std"
   ],
   "metadata": {
    "collapsed": false,
    "pycharm": {
     "name": "#%%\n"
    }
   }
  },
  {
   "cell_type": "code",
   "execution_count": 992,
   "outputs": [
    {
     "data": {
      "text/plain": "<Figure size 432x288 with 1 Axes>",
      "image/png": "[encoded data removed]"
     },
     "metadata": {
      "needs_background": "light"
     },
     "output_type": "display_data"
    }
   ],
   "source": [
    "# Plotting all the values in a histogram to look at the distribution, before and after scaling\n",
    "X_pre_scale = sns.histplot(X_train)"
   ],
   "metadata": {
    "collapsed": false,
    "pycharm": {
     "name": "#%%\n"
    }
   }
  },
  {
   "cell_type": "code",
   "execution_count": 993,
   "outputs": [
    {
     "data": {
      "text/plain": "<Figure size 432x288 with 1 Axes>",
      "image/png": "[encoded data removed]"
     },
     "metadata": {
      "needs_background": "light"
     },
     "output_type": "display_data"
    }
   ],
   "source": [
    "X_post_scale = sns.histplot(X_train_scaled)"
   ],
   "metadata": {
    "collapsed": false,
    "pycharm": {
     "name": "#%%\n"
    }
   }
  },
  {
   "cell_type": "code",
   "execution_count": 994,
   "outputs": [],
   "source": [
    "# After standardizing the data, we will now train the Adaline"
   ],
   "metadata": {
    "collapsed": false,
    "pycharm": {
     "name": "#%%\n"
    }
   }
  },
  {
   "cell_type": "markdown",
   "metadata": {},
   "source": [
    "__Training:__"
   ]
  },
  {
   "cell_type": "code",
   "execution_count": 995,
   "metadata": {
    "ExecuteTime": {
     "end_time": "2021-01-07T12:59:37.400231Z",
     "start_time": "2021-01-07T12:59:37.398291Z"
    }
   },
   "outputs": [
    {
     "data": {
      "text/plain": "<Figure size 720x288 with 2 Axes>",
      "image/png": "[encoded data removed]"
     },
     "metadata": {
      "needs_background": "light"
     },
     "output_type": "display_data"
    }
   ],
   "source": [
    "fig, ax = plt.subplots(nrows=1, ncols=2, figsize=(10, 4))\n",
    "\n",
    "# Training Adaline model and plot cost functions\n",
    "ada_wine_scaled = AdalineGD(n_iter=20, eta=0.01, random_state=1).fit(X_scaled, y)\n",
    "ax[0].plot(range(1, len(ada_wine_scaled.cost_) + 1), np.log10(ada_wine_scaled.cost_), marker = 'o')\n",
    "ax[0].set_xlabel('Epochs')\n",
    "ax[0].set_ylabel('log(Sum-squared-error)')\n",
    "ax[0].set_title('Adaline - Learning rate 0.1')\n",
    "\n",
    "ada_wine_scaled_2 = AdalineGD(n_iter=20, eta=0.0001, random_state=1).fit(X_scaled, y)\n",
    "ax[1].plot(range(1, len(ada_wine_scaled_2.cost_) + 1), np.log10(ada_wine_scaled_2.cost_), marker = 'o')\n",
    "ax[1].set_xlabel('Epochs')\n",
    "ax[1].set_ylabel('log(Sum-squared-error)')\n",
    "ax[1].set_title('Adaline - Learning rate 0.0001')\n",
    "plt.show()"
   ]
  },
  {
   "cell_type": "code",
   "execution_count": 1018,
   "outputs": [
    {
     "ename": "IndexError",
     "evalue": "Inconsistent shape between the condition and the input (got (400, 1) and (400,))",
     "output_type": "error",
     "traceback": [
      "\u001B[0;31m---------------------------------------------------------------------------\u001B[0m",
      "\u001B[0;31mIndexError\u001B[0m                                Traceback (most recent call last)",
      "\u001B[0;32m<ipython-input-1018-2b9587f6af39>\u001B[0m in \u001B[0;36m<module>\u001B[0;34m\u001B[0m\n\u001B[1;32m     44\u001B[0m \u001B[0;31m# adaline_results = np.asarray(adaline_results).reshape(400,1)\u001B[0m\u001B[0;34m\u001B[0m\u001B[0;34m\u001B[0m\u001B[0;34m\u001B[0m\u001B[0m\n\u001B[1;32m     45\u001B[0m \u001B[0mplt\u001B[0m\u001B[0;34m.\u001B[0m\u001B[0mfigure\u001B[0m\u001B[0;34m(\u001B[0m\u001B[0mfigsize\u001B[0m\u001B[0;34m=\u001B[0m\u001B[0;34m(\u001B[0m\u001B[0;36m10\u001B[0m\u001B[0;34m,\u001B[0m \u001B[0;36m5\u001B[0m\u001B[0;34m)\u001B[0m\u001B[0;34m)\u001B[0m\u001B[0;34m\u001B[0m\u001B[0;34m\u001B[0m\u001B[0m\n\u001B[0;32m---> 46\u001B[0;31m \u001B[0madaline_heatmap\u001B[0m \u001B[0;34m=\u001B[0m \u001B[0msns\u001B[0m\u001B[0;34m.\u001B[0m\u001B[0mheatmap\u001B[0m\u001B[0;34m(\u001B[0m\u001B[0madaline_results\u001B[0m\u001B[0;34m,\u001B[0m \u001B[0mxticklabels\u001B[0m\u001B[0;34m=\u001B[0m\u001B[0mx_values\u001B[0m\u001B[0;34m,\u001B[0m \u001B[0myticklabels\u001B[0m\u001B[0;34m=\u001B[0m\u001B[0my_values\u001B[0m\u001B[0;34m)\u001B[0m\u001B[0;34m\u001B[0m\u001B[0;34m\u001B[0m\u001B[0m\n\u001B[0m\u001B[1;32m     47\u001B[0m \u001B[0mplt\u001B[0m\u001B[0;34m.\u001B[0m\u001B[0mshow\u001B[0m\u001B[0;34m(\u001B[0m\u001B[0;34m)\u001B[0m\u001B[0;34m\u001B[0m\u001B[0;34m\u001B[0m\u001B[0m\n\u001B[1;32m     48\u001B[0m \u001B[0;34m\u001B[0m\u001B[0m\n",
      "\u001B[0;32m/opt/anaconda3/lib/python3.8/site-packages/seaborn/_decorators.py\u001B[0m in \u001B[0;36minner_f\u001B[0;34m(*args, **kwargs)\u001B[0m\n\u001B[1;32m     44\u001B[0m             )\n\u001B[1;32m     45\u001B[0m         \u001B[0mkwargs\u001B[0m\u001B[0;34m.\u001B[0m\u001B[0mupdate\u001B[0m\u001B[0;34m(\u001B[0m\u001B[0;34m{\u001B[0m\u001B[0mk\u001B[0m\u001B[0;34m:\u001B[0m \u001B[0marg\u001B[0m \u001B[0;32mfor\u001B[0m \u001B[0mk\u001B[0m\u001B[0;34m,\u001B[0m \u001B[0marg\u001B[0m \u001B[0;32min\u001B[0m \u001B[0mzip\u001B[0m\u001B[0;34m(\u001B[0m\u001B[0msig\u001B[0m\u001B[0;34m.\u001B[0m\u001B[0mparameters\u001B[0m\u001B[0;34m,\u001B[0m \u001B[0margs\u001B[0m\u001B[0;34m)\u001B[0m\u001B[0;34m}\u001B[0m\u001B[0;34m)\u001B[0m\u001B[0;34m\u001B[0m\u001B[0;34m\u001B[0m\u001B[0m\n\u001B[0;32m---> 46\u001B[0;31m         \u001B[0;32mreturn\u001B[0m \u001B[0mf\u001B[0m\u001B[0;34m(\u001B[0m\u001B[0;34m**\u001B[0m\u001B[0mkwargs\u001B[0m\u001B[0;34m)\u001B[0m\u001B[0;34m\u001B[0m\u001B[0;34m\u001B[0m\u001B[0m\n\u001B[0m\u001B[1;32m     47\u001B[0m     \u001B[0;32mreturn\u001B[0m \u001B[0minner_f\u001B[0m\u001B[0;34m\u001B[0m\u001B[0;34m\u001B[0m\u001B[0m\n\u001B[1;32m     48\u001B[0m \u001B[0;34m\u001B[0m\u001B[0m\n",
      "\u001B[0;32m/opt/anaconda3/lib/python3.8/site-packages/seaborn/matrix.py\u001B[0m in \u001B[0;36mheatmap\u001B[0;34m(data, vmin, vmax, cmap, center, robust, annot, fmt, annot_kws, linewidths, linecolor, cbar, cbar_kws, cbar_ax, square, xticklabels, yticklabels, mask, ax, **kwargs)\u001B[0m\n\u001B[1;32m    533\u001B[0m     \"\"\"\n\u001B[1;32m    534\u001B[0m     \u001B[0;31m# Initialize the plotter object\u001B[0m\u001B[0;34m\u001B[0m\u001B[0;34m\u001B[0m\u001B[0;34m\u001B[0m\u001B[0m\n\u001B[0;32m--> 535\u001B[0;31m     plotter = _HeatMapper(data, vmin, vmax, cmap, center, robust, annot, fmt,\n\u001B[0m\u001B[1;32m    536\u001B[0m                           \u001B[0mannot_kws\u001B[0m\u001B[0;34m,\u001B[0m \u001B[0mcbar\u001B[0m\u001B[0;34m,\u001B[0m \u001B[0mcbar_kws\u001B[0m\u001B[0;34m,\u001B[0m \u001B[0mxticklabels\u001B[0m\u001B[0;34m,\u001B[0m\u001B[0;34m\u001B[0m\u001B[0;34m\u001B[0m\u001B[0m\n\u001B[1;32m    537\u001B[0m                           yticklabels, mask)\n",
      "\u001B[0;32m/opt/anaconda3/lib/python3.8/site-packages/seaborn/matrix.py\u001B[0m in \u001B[0;36m__init__\u001B[0;34m(self, data, vmin, vmax, cmap, center, robust, annot, fmt, annot_kws, cbar, cbar_kws, xticklabels, yticklabels, mask)\u001B[0m\n\u001B[1;32m    105\u001B[0m         \u001B[0mmask\u001B[0m \u001B[0;34m=\u001B[0m \u001B[0m_matrix_mask\u001B[0m\u001B[0;34m(\u001B[0m\u001B[0mdata\u001B[0m\u001B[0;34m,\u001B[0m \u001B[0mmask\u001B[0m\u001B[0;34m)\u001B[0m\u001B[0;34m\u001B[0m\u001B[0;34m\u001B[0m\u001B[0m\n\u001B[1;32m    106\u001B[0m \u001B[0;34m\u001B[0m\u001B[0m\n\u001B[0;32m--> 107\u001B[0;31m         \u001B[0mplot_data\u001B[0m \u001B[0;34m=\u001B[0m \u001B[0mnp\u001B[0m\u001B[0;34m.\u001B[0m\u001B[0mma\u001B[0m\u001B[0;34m.\u001B[0m\u001B[0mmasked_where\u001B[0m\u001B[0;34m(\u001B[0m\u001B[0mnp\u001B[0m\u001B[0;34m.\u001B[0m\u001B[0masarray\u001B[0m\u001B[0;34m(\u001B[0m\u001B[0mmask\u001B[0m\u001B[0;34m)\u001B[0m\u001B[0;34m,\u001B[0m \u001B[0mplot_data\u001B[0m\u001B[0;34m)\u001B[0m\u001B[0;34m\u001B[0m\u001B[0;34m\u001B[0m\u001B[0m\n\u001B[0m\u001B[1;32m    108\u001B[0m \u001B[0;34m\u001B[0m\u001B[0m\n\u001B[1;32m    109\u001B[0m         \u001B[0;31m# Get good names for the rows and columns\u001B[0m\u001B[0;34m\u001B[0m\u001B[0;34m\u001B[0m\u001B[0;34m\u001B[0m\u001B[0m\n",
      "\u001B[0;32m/opt/anaconda3/lib/python3.8/site-packages/numpy/ma/core.py\u001B[0m in \u001B[0;36mmasked_where\u001B[0;34m(condition, a, copy)\u001B[0m\n\u001B[1;32m   1924\u001B[0m     \u001B[0;34m(\u001B[0m\u001B[0mcshape\u001B[0m\u001B[0;34m,\u001B[0m \u001B[0mashape\u001B[0m\u001B[0;34m)\u001B[0m \u001B[0;34m=\u001B[0m \u001B[0;34m(\u001B[0m\u001B[0mcond\u001B[0m\u001B[0;34m.\u001B[0m\u001B[0mshape\u001B[0m\u001B[0;34m,\u001B[0m \u001B[0ma\u001B[0m\u001B[0;34m.\u001B[0m\u001B[0mshape\u001B[0m\u001B[0;34m)\u001B[0m\u001B[0;34m\u001B[0m\u001B[0;34m\u001B[0m\u001B[0m\n\u001B[1;32m   1925\u001B[0m     \u001B[0;32mif\u001B[0m \u001B[0mcshape\u001B[0m \u001B[0;32mand\u001B[0m \u001B[0mcshape\u001B[0m \u001B[0;34m!=\u001B[0m \u001B[0mashape\u001B[0m\u001B[0;34m:\u001B[0m\u001B[0;34m\u001B[0m\u001B[0;34m\u001B[0m\u001B[0m\n\u001B[0;32m-> 1926\u001B[0;31m         raise IndexError(\"Inconsistent shape between the condition and the input\"\n\u001B[0m\u001B[1;32m   1927\u001B[0m                          \" (got %s and %s)\" % (cshape, ashape))\n\u001B[1;32m   1928\u001B[0m     \u001B[0;32mif\u001B[0m \u001B[0mhasattr\u001B[0m\u001B[0;34m(\u001B[0m\u001B[0ma\u001B[0m\u001B[0;34m,\u001B[0m \u001B[0;34m'_mask'\u001B[0m\u001B[0;34m)\u001B[0m\u001B[0;34m:\u001B[0m\u001B[0;34m\u001B[0m\u001B[0;34m\u001B[0m\u001B[0m\n",
      "\u001B[0;31mIndexError\u001B[0m: Inconsistent shape between the condition and the input (got (400, 1) and (400,))"
     ]
    },
    {
     "data": {
      "text/plain": "<Figure size 720x360 with 0 Axes>"
     },
     "metadata": {},
     "output_type": "display_data"
    }
   ],
   "source": [
    "# Creating subsets of training data\n",
    "\n",
    "ground_truth = y_test\n",
    "# initial_data = {\"Subset\": [], \"Accuracy\": []}\n",
    "adaline_subsets = []\n",
    "# adaline_accuracy = np.empty((8, 50))\n",
    "adaline_accuracy = []\n",
    "\n",
    "adaline_epoch = []\n",
    "adaline_results = []\n",
    "\n",
    "for row, subset in enumerate(range(50, 450, 50)):\n",
    "    X_subset = X_train_scaled[:row]\n",
    "    y_subset = y_train[:row]\n",
    "    #print(f\"For rows until {row} in subset {subset+1}\") if row < 400 else print(f\"For the whole dataset in subset {subset+1}\")\n",
    "    # print(X_subset)\n",
    "    # print(y_subset)\n",
    "    #adaline_subsets.append(subset)\n",
    "    for epoch in range(1, 51):\n",
    "        ada_wine_model = AdalineGD(n_iter=epoch, eta=0.0001, random_state=1).fit(X_subset, y_subset)\n",
    "        y_pred = ada_wine_model.predict(X_test_scaled)\n",
    "\n",
    "        # adaline_accuracy[subset][f\"Epoch {epoch - 1}\"] = sum(np.equal(ground_truth, y_pred) / len(ground_truth))\n",
    "        adaline_results.append(sum(np.equal(ground_truth, y_pred) / len(ground_truth)))\n",
    "        #adaline_accuracy[subset][epoch - 1] = sum(np.equal(ground_truth, y_pred) / len(ground_truth))\n",
    "\n",
    "        #print(f\"Epoch number {epoch}: Done\")\n",
    "        #print(f\"Epoch number {epoch}: \\n Length of subset {subset+1}: {len(X_subset)}\")\n",
    "\n",
    "        #accuracy_result[f\"Subset {subset + 1}\"] = 0\n",
    "        # Calculating the accuracy of the model\n",
    "        #adaline_accuracy[subset][epoch -1 ] = sum(np.equal(ground_truth, y_pred)) / len(ground_truth)\n",
    "        # accuracy_result[f\"Subset {subset + 1}\"] = sum(np.equal(ground_truth, y_pred) / len(ground_truth))\n",
    "        #adaline_epoch.append(epoch)\n",
    "    # accuracy_result[f\"Subset {subset}\"] = pd.Series(adaline_accuracy[:row])\n",
    "\n",
    "#for number in adaline_subsets:\n",
    "    #accuracy_result[f\"Subset {number}\"] = 0\n",
    "\n",
    "#accuracy_result = pd.DataFrame({\"Subset\": , \"Accuracy\": adaline_accuracy})\n",
    "\n",
    "x_values = [f\"Epoch {epoch + 1}\" for epoch in range(50)]\n",
    "y_values = [f\"{row} out of 400\" for row in range (50, 450, 50)]\n",
    "# adaline_results = np.asarray(adaline_results).reshape(400,1)\n",
    "plt.figure(figsize=(10, 5))\n",
    "adaline_heatmap = sns.heatmap(adaline_results, xticklabels=x_values, yticklabels=y_values)\n",
    "plt.show()\n",
    "\n",
    "\n"
   ],
   "metadata": {
    "collapsed": false,
    "pycharm": {
     "name": "#%%\n"
    }
   }
  },
  {
   "cell_type": "markdown",
   "metadata": {},
   "source": [
    "### Perceptron"
   ]
  },
  {
   "cell_type": "markdown",
   "metadata": {},
   "source": [
    "#### Preprocessing"
   ]
  },
  {
   "cell_type": "markdown",
   "metadata": {},
   "source": [
    "#### Training:"
   ]
  },
  {
   "cell_type": "markdown",
   "metadata": {},
   "source": [
    "## Visualizing results\n",
    "\n",
    "Plot a heatmap of the results (test set classification accuracy) using Python plotting packages matplotlib or seaborn (Lenker til en ekstern side.). See below what the heatmaps should look like for the two classification algorithms."
   ]
  },
  {
   "cell_type": "code",
   "execution_count": null,
   "metadata": {
    "ExecuteTime": {
     "end_time": "2021-01-07T12:59:37.715247Z",
     "start_time": "2021-01-07T12:59:37.712739Z"
    }
   },
   "outputs": [],
   "source": [
    "# Insert your code below\n",
    "# ======================"
   ]
  },
  {
   "cell_type": "markdown",
   "metadata": {},
   "source": [
    "## Metrics"
   ]
  },
  {
   "cell_type": "markdown",
   "metadata": {},
   "source": [
    "Provide the maximum test set classification accuracy for each, the perceptron classifier and the adaline classifier and information on with which combination of number training data samples and number of epochs the best classification accuracy was achieved. "
   ]
  },
  {
   "cell_type": "code",
   "execution_count": null,
   "metadata": {
    "ExecuteTime": {
     "end_time": "2021-01-07T12:59:38.203360Z",
     "start_time": "2021-01-07T12:59:38.201059Z"
    }
   },
   "outputs": [],
   "source": [
    "# Insert your code below\n",
    "# ======================"
   ]
  },
  {
   "cell_type": "markdown",
   "metadata": {},
   "source": [
    "## Discussion"
   ]
  },
  {
   "cell_type": "markdown",
   "metadata": {},
   "source": [
    "The training time of the simpler perceptron algorithm is quite a bit longer than the training time of the adaline algorithm. What might be the reason for this?"
   ]
  },
  {
   "cell_type": "markdown",
   "metadata": {},
   "source": [
    "__Insert your answer below__\n",
    "\n",
    "====================="
   ]
  },
  {
   "cell_type": "markdown",
   "metadata": {},
   "source": [
    "---"
   ]
  }
 ],
 "metadata": {
  "kernelspec": {
   "display_name": "Python 3",
   "language": "python",
   "name": "python3"
  },
  "language_info": {
   "codemirror_mode": {
    "name": "ipython",
    "version": 3
   },
   "file_extension": ".py",
   "mimetype": "text/x-python",
   "name": "python",
   "nbconvert_exporter": "python",
   "pygments_lexer": "ipython3",
   "version": "3.8.8"
  },
  "toc": {
   "base_numbering": 1,
   "nav_menu": {},
   "number_sections": true,
   "sideBar": true,
   "skip_h1_title": false,
   "title_cell": "Table of Contents",
   "title_sidebar": "Contents",
   "toc_cell": false,
   "toc_position": {
    "height": "calc(100% - 180px)",
    "left": "10px",
    "top": "150px",
    "width": "376.667px"
   },
   "toc_section_display": true,
   "toc_window_display": true
  },
  "varInspector": {
   "cols": {
    "lenName": 16,
    "lenType": 16,
    "lenVar": 40
   },
   "kernels_config": {
    "python": {
     "delete_cmd_postfix": "",
     "delete_cmd_prefix": "del ",
     "library": "var_list.py",
     "varRefreshCmd": "print(var_dic_list())"
    },
    "r": {
     "delete_cmd_postfix": ") ",
     "delete_cmd_prefix": "rm(",
     "library": "var_list.r",
     "varRefreshCmd": "cat(var_dic_list()) "
    }
   },
   "types_to_exclude": [
    "module",
    "function",
    "builtin_function_or_method",
    "instance",
    "_Feature"
   ],
   "window_display": false
  }
 },
 "nbformat": 4,
 "nbformat_minor": 4
}