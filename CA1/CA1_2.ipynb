{
 "cells": [
  {
   "cell_type": "markdown",
   "source": [
    "# Compulsory Assignment 1 - Pandas and visualizations\n",
    "### Tonje Martine Lorgen Kirkholt"
   ],
   "metadata": {
    "collapsed": false,
    "pycharm": {
     "name": "#%% md\n"
    }
   }
  },
  {
   "cell_type": "markdown",
   "source": [
    "### Imports"
   ],
   "metadata": {
    "collapsed": false,
    "pycharm": {
     "name": "#%% md\n"
    }
   }
  },
  {
   "cell_type": "code",
   "execution_count": 328,
   "metadata": {
    "pycharm": {
     "name": "#%%\n"
    }
   },
   "outputs": [],
   "source": [
    "import pandas as pd\n",
    "import numpy as np\n",
    "import seaborn as sns\n",
    "import matplotlib.pyplot as plt\n"
   ]
  },
  {
   "cell_type": "markdown",
   "metadata": {
    "pycharm": {
     "name": "#%% md\n"
    }
   },
   "source": [
    "---\n",
    "## Loading and exploring the dataset"
   ]
  },
  {
   "cell_type": "markdown",
   "metadata": {
    "pycharm": {
     "name": "#%% md\n"
    }
   },
   "source": [
    "__1. Load the dataset named `airbnb.csv` and store it in a dataframe called `raw_df`. Use the column named `ìd` as the index column for the dataframe__"
   ]
  },
  {
   "cell_type": "code",
   "execution_count": 329,
   "metadata": {
    "pycharm": {
     "name": "#%%\n"
    }
   },
   "outputs": [],
   "source": [
    "# Loading the dataset and storing it in a dataframe called raw_df\n",
    "raw_df = pd.read_csv('assets/airbnb.csv')\n",
    "\n",
    "#Setting column id as index column\n",
    "raw_df = raw_df.set_index('id')"
   ]
  },
  {
   "cell_type": "markdown",
   "metadata": {
    "pycharm": {
     "name": "#%% md\n"
    }
   },
   "source": [
    "__2. Print the first `five` rows of the dataframe__"
   ]
  },
  {
   "cell_type": "code",
   "execution_count": 330,
   "metadata": {
    "pycharm": {
     "name": "#%%\n"
    }
   },
   "outputs": [
    {
     "data": {
      "text/plain": "                                                     name  host_id  host_name  \\\nid                                                                              \n183319                  Panoramic Ocean View Venice Beach   867995  Barbara X   \n109     Amazing bright elegant condo park front *UPGRA...      521      Paolo   \n51307   Spanish Bungalow Guest House LA CA. 30 plus ni...   235568      David   \n184314                    Boho Chic Flat..Steps to Beach!   884031     Ashley   \n51498   Guest House With Its Own Entrance/Exit and Hot...   236758        Bay   \n\n          neighbourhood  latitude  longitude        room_type  price  \\\nid                                                                     \n183319           Venice  33.99211 -118.47600  Entire home/apt    152   \n109         Culver City  33.98301 -118.38607  Entire home/apt    115   \n51307   Atwater Village  34.12206 -118.26783  Entire home/apt     75   \n184314           Venice  33.97487 -118.46312  Entire home/apt    125   \n51498         Mar Vista  34.00389 -118.44126  Entire home/apt    189   \n\n        minimum_nights  number_of_reviews  calculated_host_listings_count  \\\nid                                                                          \n183319              30                  3                               2   \n109                 30                  2                               1   \n51307               30                138                               2   \n184314              30                 30                               1   \n51498                3                378                               1   \n\n        availability_365  number_of_reviews_ltm state         city  \nid                                                                  \n183319                 0                      0    CA  Los Angeles  \n109                  139                      0    CA  Los Angeles  \n51307                224                      0    CA  Los Angeles  \n184314                 0                      0    CA  Los Angeles  \n51498                348                     41    CA  Los Angeles  ",
      "text/html": "<div>\n<style scoped>\n    .dataframe tbody tr th:only-of-type {\n        vertical-align: middle;\n    }\n\n    .dataframe tbody tr th {\n        vertical-align: top;\n    }\n\n    .dataframe thead th {\n        text-align: right;\n    }\n</style>\n<table border=\"1\" class=\"dataframe\">\n  <thead>\n    <tr style=\"text-align: right;\">\n      <th></th>\n      <th>name</th>\n      <th>host_id</th>\n      <th>host_name</th>\n      <th>neighbourhood</th>\n      <th>latitude</th>\n      <th>longitude</th>\n      <th>room_type</th>\n      <th>price</th>\n      <th>minimum_nights</th>\n      <th>number_of_reviews</th>\n      <th>calculated_host_listings_count</th>\n      <th>availability_365</th>\n      <th>number_of_reviews_ltm</th>\n      <th>state</th>\n      <th>city</th>\n    </tr>\n    <tr>\n      <th>id</th>\n      <th></th>\n      <th></th>\n      <th></th>\n      <th></th>\n      <th></th>\n      <th></th>\n      <th></th>\n      <th></th>\n      <th></th>\n      <th></th>\n      <th></th>\n      <th></th>\n      <th></th>\n      <th></th>\n      <th></th>\n    </tr>\n  </thead>\n  <tbody>\n    <tr>\n      <th>183319</th>\n      <td>Panoramic Ocean View Venice Beach</td>\n      <td>867995</td>\n      <td>Barbara X</td>\n      <td>Venice</td>\n      <td>33.99211</td>\n      <td>-118.47600</td>\n      <td>Entire home/apt</td>\n      <td>152</td>\n      <td>30</td>\n      <td>3</td>\n      <td>2</td>\n      <td>0</td>\n      <td>0</td>\n      <td>CA</td>\n      <td>Los Angeles</td>\n    </tr>\n    <tr>\n      <th>109</th>\n      <td>Amazing bright elegant condo park front *UPGRA...</td>\n      <td>521</td>\n      <td>Paolo</td>\n      <td>Culver City</td>\n      <td>33.98301</td>\n      <td>-118.38607</td>\n      <td>Entire home/apt</td>\n      <td>115</td>\n      <td>30</td>\n      <td>2</td>\n      <td>1</td>\n      <td>139</td>\n      <td>0</td>\n      <td>CA</td>\n      <td>Los Angeles</td>\n    </tr>\n    <tr>\n      <th>51307</th>\n      <td>Spanish Bungalow Guest House LA CA. 30 plus ni...</td>\n      <td>235568</td>\n      <td>David</td>\n      <td>Atwater Village</td>\n      <td>34.12206</td>\n      <td>-118.26783</td>\n      <td>Entire home/apt</td>\n      <td>75</td>\n      <td>30</td>\n      <td>138</td>\n      <td>2</td>\n      <td>224</td>\n      <td>0</td>\n      <td>CA</td>\n      <td>Los Angeles</td>\n    </tr>\n    <tr>\n      <th>184314</th>\n      <td>Boho Chic Flat..Steps to Beach!</td>\n      <td>884031</td>\n      <td>Ashley</td>\n      <td>Venice</td>\n      <td>33.97487</td>\n      <td>-118.46312</td>\n      <td>Entire home/apt</td>\n      <td>125</td>\n      <td>30</td>\n      <td>30</td>\n      <td>1</td>\n      <td>0</td>\n      <td>0</td>\n      <td>CA</td>\n      <td>Los Angeles</td>\n    </tr>\n    <tr>\n      <th>51498</th>\n      <td>Guest House With Its Own Entrance/Exit and Hot...</td>\n      <td>236758</td>\n      <td>Bay</td>\n      <td>Mar Vista</td>\n      <td>34.00389</td>\n      <td>-118.44126</td>\n      <td>Entire home/apt</td>\n      <td>189</td>\n      <td>3</td>\n      <td>378</td>\n      <td>1</td>\n      <td>348</td>\n      <td>41</td>\n      <td>CA</td>\n      <td>Los Angeles</td>\n    </tr>\n  </tbody>\n</table>\n</div>"
     },
     "execution_count": 330,
     "metadata": {},
     "output_type": "execute_result"
    }
   ],
   "source": [
    "# Specifying with df.head() how many rows to view\n",
    "raw_df.head(5)"
   ]
  },
  {
   "cell_type": "markdown",
   "metadata": {
    "pycharm": {
     "name": "#%% md\n"
    }
   },
   "source": [
    "__3. How many unique values exist in each of the columns `state` and `city`?__"
   ]
  },
  {
   "cell_type": "code",
   "execution_count": 331,
   "metadata": {
    "pycharm": {
     "name": "#%%\n"
    }
   },
   "outputs": [
    {
     "data": {
      "text/plain": "19"
     },
     "execution_count": 331,
     "metadata": {},
     "output_type": "execute_result"
    }
   ],
   "source": [
    "# Using nunique() to return the number of distinct values in the chosen column\n",
    "# Done for columns state and city\n",
    "raw_df.state.nunique()"
   ]
  },
  {
   "cell_type": "code",
   "execution_count": 332,
   "metadata": {
    "pycharm": {
     "name": "#%%\n"
    }
   },
   "outputs": [
    {
     "data": {
      "text/plain": "31"
     },
     "execution_count": 332,
     "metadata": {},
     "output_type": "execute_result"
    }
   ],
   "source": [
    "raw_df.city.nunique()"
   ]
  },
  {
   "cell_type": "markdown",
   "metadata": {
    "pycharm": {
     "name": "#%% md\n"
    }
   },
   "source": [
    "__4. Identify missing (NaN) values in each of the columns in the dataset__"
   ]
  },
  {
   "cell_type": "code",
   "execution_count": 333,
   "metadata": {
    "pycharm": {
     "name": "#%%\n"
    }
   },
   "outputs": [
    {
     "data": {
      "text/plain": "name                                19\nhost_id                              0\nhost_name                         1144\nneighbourhood                      712\nlatitude                             0\nlongitude                            0\nroom_type                            0\nprice                                0\nminimum_nights                       0\nnumber_of_reviews                    0\ncalculated_host_listings_count       0\navailability_365                     0\nnumber_of_reviews_ltm                0\nstate                                0\ncity                                 0\ndtype: int64"
     },
     "execution_count": 333,
     "metadata": {},
     "output_type": "execute_result"
    }
   ],
   "source": [
    "# Using isna() to detect missing values, and sum() to sum each column\n",
    "raw_df.isna().sum()"
   ]
  },
  {
   "cell_type": "markdown",
   "metadata": {
    "pycharm": {
     "name": "#%% md\n"
    }
   },
   "source": [
    "__5. Create a copy of `raw_df` named `df`. Remove any rows containing NaN values in the new dataframe. What is the shape of `df` before and after removing the NaN values?__"
   ]
  },
  {
   "cell_type": "code",
   "execution_count": 334,
   "outputs": [
    {
     "data": {
      "text/plain": "(325858, 15)"
     },
     "execution_count": 334,
     "metadata": {},
     "output_type": "execute_result"
    }
   ],
   "source": [
    "# Creating a new dataframe by making a copy using copy()\n",
    "df = raw_df.copy()\n",
    "\n",
    "# Shape before removing the NaN values\n",
    "df.shape"
   ],
   "metadata": {
    "collapsed": false,
    "pycharm": {
     "name": "#%%\n"
    }
   }
  },
  {
   "cell_type": "code",
   "execution_count": 335,
   "metadata": {
    "pycharm": {
     "name": "#%%\n"
    }
   },
   "outputs": [
    {
     "data": {
      "text/plain": "(323983, 15)"
     },
     "execution_count": 335,
     "metadata": {},
     "output_type": "execute_result"
    }
   ],
   "source": [
    "# Using dropna() to remove missing values from the new dataframe\n",
    "df = df.dropna()\n",
    "\n",
    "# Shape after removing the NaN values\n",
    "df.shape"
   ]
  },
  {
   "cell_type": "markdown",
   "source": [
    "We can see that the number of rows have decreased by 1875."
   ],
   "metadata": {
    "collapsed": false,
    "pycharm": {
     "name": "#%% md\n"
    }
   }
  },
  {
   "cell_type": "markdown",
   "metadata": {
    "pycharm": {
     "name": "#%% md\n"
    }
   },
   "source": [
    "__6. Which `room_type`, `state` and `city` is the most popular (by number of instances)? Print the name and count of each__\n",
    "\n",
    "Hint: The output should look something like this:\n",
    "```python\n",
    "Column: [col], Most popular: [name], Count: [count]\n",
    "Column: [col], Most popular: [name], Count: [count]\n",
    "Column: [col], Most popular: [name], Count: [count]\n",
    "```"
   ]
  },
  {
   "cell_type": "code",
   "execution_count": 336,
   "metadata": {
    "pycharm": {
     "name": "#%%\n"
    }
   },
   "outputs": [],
   "source": [
    "# Creating lists with the information to use in for-loop printing\n",
    "columns_print = [df.columns[6], df.columns[13], df.columns[14]]\n",
    "most_pop = [df.room_type.mode()[0], df.state.mode()[0], df.city.mode()[0]]\n",
    "count = [df.room_type.value_counts().max(), df.state.value_counts().max(), df.city.value_counts().max()]"
   ]
  },
  {
   "cell_type": "code",
   "execution_count": 337,
   "metadata": {
    "pycharm": {
     "name": "#%%\n"
    }
   },
   "outputs": [
    {
     "name": "stdout",
     "output_type": "stream",
     "text": [
      "Column: room_type ,  Most popular: Entire home/apt ,  Count: 241433\n",
      "Column: state ,  Most popular: CA ,  Count: 127206\n",
      "Column: city ,  Most popular: Los Angeles ,  Count: 91600\n"
     ]
    }
   ],
   "source": [
    "for col, mpop, count in zip(columns_print, most_pop, count):\n",
    "    print('Column:', col, \",  Most popular:\", mpop, \",  Count:\", count)"
   ]
  },
  {
   "cell_type": "code",
   "execution_count": 338,
   "metadata": {
    "pycharm": {
     "name": "#%%\n"
    }
   },
   "outputs": [
    {
     "name": "stdout",
     "output_type": "stream",
     "text": [
      "Column: room_type , Most popular: Entire home/apt , Count:  241433\n",
      "Column: state , Most popular: CA , Count:  127206\n",
      "Column: city , Most popular: Los Angeles , Count:  91600\n"
     ]
    }
   ],
   "source": [
    "# Printing each line\n",
    "print('Column:', df.columns[6], ', Most popular:', df.room_type.mode()[0], ', Count: ', df.room_type.value_counts().max())\n",
    "print('Column:', df.columns[13], ', Most popular:', df.state.mode()[0], ', Count: ', df.state.value_counts().max())\n",
    "print('Column:', df.columns[14], ', Most popular:', df.city.mode()[0], ', Count: ', df.city.value_counts().max())"
   ]
  },
  {
   "cell_type": "code",
   "execution_count": 339,
   "metadata": {
    "pycharm": {
     "name": "#%%\n"
    }
   },
   "outputs": [],
   "source": [
    "# Using the tabulate module to get a better output\n",
    "from tabulate import tabulate\n",
    "dict = {'Column':[df.columns[6], df.columns[13], df.columns[14]],\n",
    "       'Most popular':[df.room_type.mode()[0], df.state.mode()[0], df.city.mode()[0]],\n",
    "       'Count': [df.room_type.value_counts().max(), df.state.value_counts().max(), df.city.value_counts().max()]}"
   ]
  },
  {
   "cell_type": "code",
   "execution_count": 340,
   "metadata": {
    "pycharm": {
     "name": "#%%\n"
    }
   },
   "outputs": [],
   "source": [
    "table_result = pd.DataFrame(dict)"
   ]
  },
  {
   "cell_type": "code",
   "execution_count": 341,
   "metadata": {
    "pycharm": {
     "name": "#%%\n"
    }
   },
   "outputs": [
    {
     "name": "stdout",
     "output_type": "stream",
     "text": [
      "    | Column    | Most popular    |   Count\n",
      "----+-----------+-----------------+---------\n",
      "  0 | room_type | Entire home/apt |  241433\n",
      "  1 | state     | CA              |  127206\n",
      "  2 | city      | Los Angeles     |   91600\n"
     ]
    }
   ],
   "source": [
    "print(tabulate(table_result, headers = 'keys', tablefmt = 'presto'))"
   ]
  },
  {
   "cell_type": "markdown",
   "metadata": {
    "pycharm": {
     "name": "#%% md\n"
    }
   },
   "source": [
    "__7. What is the average and median `price` for a listing?__"
   ]
  },
  {
   "cell_type": "code",
   "execution_count": 342,
   "metadata": {
    "pycharm": {
     "name": "#%%\n"
    }
   },
   "outputs": [
    {
     "name": "stdout",
     "output_type": "stream",
     "text": [
      "Average price for a listing: 285.13\n"
     ]
    }
   ],
   "source": [
    "# Average price for a listing\n",
    "\n",
    "average_listing_price = round(df.loc[:, 'price'].mean(), 2)\n",
    "print('Average price for a listing:', average_listing_price)"
   ]
  },
  {
   "cell_type": "code",
   "execution_count": 343,
   "metadata": {
    "pycharm": {
     "name": "#%%\n"
    }
   },
   "outputs": [
    {
     "name": "stdout",
     "output_type": "stream",
     "text": [
      "Median price for a listing: 159.0\n"
     ]
    }
   ],
   "source": [
    "# Median price for a listing\n",
    "\n",
    "median_listing_price = round(df.loc[:, 'price'].median(), 2)\n",
    "print('Median price for a listing:', median_listing_price)"
   ]
  },
  {
   "cell_type": "markdown",
   "metadata": {
    "pycharm": {
     "name": "#%% md\n"
    }
   },
   "source": [
    "__8. What is the average price for the states `CA`, `FL` and `NY`?__\n",
    "\n",
    "Hint: The output should look something like this:\n",
    "```python\n",
    "State: [col], Average price: [price]\n",
    "State: [col], Average price: [price]\n",
    "State: [col], Average price: [price]\n",
    "```"
   ]
  },
  {
   "cell_type": "code",
   "execution_count": 344,
   "metadata": {
    "pycharm": {
     "name": "#%%\n"
    }
   },
   "outputs": [],
   "source": [
    "# Create a new table with only state and price\n",
    "state_price = df[['state', 'price']]\n",
    "\n",
    "# Creating a list with the specified states to use\n",
    "states = ['CA', 'FL', 'NY']\n",
    "\n",
    "# Using loc to access lines belonging to the states in the list above\n",
    "state_price = state_price.loc[df['state'].isin(states)]"
   ]
  },
  {
   "cell_type": "code",
   "execution_count": 345,
   "metadata": {
    "pycharm": {
     "name": "#%%\n"
    }
   },
   "outputs": [],
   "source": [
    "# For each state, calculate the average price\n",
    "\n",
    "avg_CA = state_price.loc[state_price['state'] == 'CA']\n",
    "avg_CA = round(avg_CA['price'].mean(), 2)\n",
    "\n",
    "avg_FL = state_price.loc[state_price['state'] == 'FL']\n",
    "avg_FL = round(avg_FL['price'].mean(), 2)\n",
    "\n",
    "avg_NY = state_price.loc[state_price['state'] == 'NY']\n",
    "avg_NY = round(avg_NY['price'].mean(), 2)\n",
    "\n",
    "avg_prices = [avg_CA, avg_FL, avg_NY]"
   ]
  },
  {
   "cell_type": "code",
   "execution_count": 346,
   "metadata": {
    "pycharm": {
     "name": "#%%\n"
    }
   },
   "outputs": [
    {
     "name": "stdout",
     "output_type": "stream",
     "text": [
      "State: [CA], Average price:, [288.4]\n",
      "State: [FL], Average price:, [241.99]\n",
      "State: [NY], Average price:, [197.22]\n"
     ]
    }
   ],
   "source": [
    "for state, price in zip(states, avg_prices):\n",
    "    print(f'State: [{state}], Average price:, [{price}]')"
   ]
  },
  {
   "cell_type": "code",
   "execution_count": 347,
   "metadata": {
    "pycharm": {
     "name": "#%%\n"
    }
   },
   "outputs": [],
   "source": [
    "dict = {'State': ['CA', 'FL', 'NY'],\n",
    "       'Average price': [avg_CA, avg_FL, avg_NY]}\n",
    "table_result = pd.DataFrame(dict)"
   ]
  },
  {
   "cell_type": "code",
   "execution_count": 348,
   "metadata": {
    "pycharm": {
     "name": "#%%\n"
    }
   },
   "outputs": [
    {
     "name": "stdout",
     "output_type": "stream",
     "text": [
      "    | State   |   Average price\n",
      "----+---------+-----------------\n",
      "  0 | CA      |          288.4\n",
      "  1 | FL      |          241.99\n",
      "  2 | NY      |          197.22\n"
     ]
    }
   ],
   "source": [
    "print(tabulate(table_result, headers = 'keys', tablefmt = 'presto'))"
   ]
  },
  {
   "cell_type": "markdown",
   "metadata": {
    "pycharm": {
     "name": "#%% md\n"
    }
   },
   "source": [
    "__9. Create a new dataframe called `df_beach` containing all listings with \"beach\" in the `name`. Print out the shape of `beach_df`__\n",
    "\n",
    "The filtering should not be case sensitive, meaning that names containing `beach`, `Beach`, `BeAcH` etc. all should be included\n"
   ]
  },
  {
   "cell_type": "code",
   "execution_count": 349,
   "outputs": [
    {
     "data": {
      "text/plain": "(323983, 15)"
     },
     "execution_count": 349,
     "metadata": {},
     "output_type": "execute_result"
    }
   ],
   "source": [
    "# Creating a copy of the dataframe df where the null values have been removed\n",
    "df_beach= df.copy()\n",
    "\n",
    "# Printing the shape\n",
    "df_beach.shape"
   ],
   "metadata": {
    "collapsed": false,
    "pycharm": {
     "name": "#%%\n"
    }
   }
  },
  {
   "cell_type": "code",
   "execution_count": 350,
   "metadata": {
    "pycharm": {
     "name": "#%%\n"
    }
   },
   "outputs": [
    {
     "data": {
      "text/plain": "(31436, 15)"
     },
     "execution_count": 350,
     "metadata": {},
     "output_type": "execute_result"
    }
   ],
   "source": [
    "# Making sure that the content of the name-column is lower-cased\n",
    "df_beach['name'] = df_beach['name'].str.lower()\n",
    "\n",
    "# Keeping only the listings with \"beach\" in the name\n",
    "df_beach = df_beach[df_beach.name.str.contains('beach')]\n",
    "\n",
    "# Printing the shape after making the changes to the dataset\n",
    "df_beach.shape"
   ]
  },
  {
   "cell_type": "code",
   "execution_count": 351,
   "metadata": {
    "pycharm": {
     "name": "#%%\n"
    }
   },
   "outputs": [
    {
     "name": "stdout",
     "output_type": "stream",
     "text": [
      "\n",
      "DataFrame Shape : (31436, 15)\n",
      "\n",
      "Number of rows : 31436\n",
      "\n",
      "Number of columns : 15\n"
     ]
    }
   ],
   "source": [
    "# Shape can be seen at the end of the dataframe print-out above as well\n",
    "df_beach_shape = df_beach.shape\n",
    "print('\\nDataFrame Shape :', df_beach_shape)\n",
    "print('\\nNumber of rows :', df_beach_shape[0])\n",
    "print('\\nNumber of columns :', df_beach_shape[1])"
   ]
  },
  {
   "cell_type": "markdown",
   "metadata": {
    "pycharm": {
     "name": "#%% md\n"
    }
   },
   "source": [
    "---\n",
    "\n",
    "## Visualizing the dataset"
   ]
  },
  {
   "cell_type": "markdown",
   "metadata": {
    "pycharm": {
     "name": "#%% md\n"
    }
   },
   "source": [
    "__10. Create plot with 2 vertical axes and one horizontal axes. The plot should display a barchart containing the `count` of the `10 most popular` states and cities, each in its own subplot. The bars should be sorted in descending order.__\n",
    "\n",
    "Use `df` in all tasks in this section\n",
    "\n",
    "Hint: It is recommended to use the `Barplot` function built into Seaborn for barcharts.\n",
    "\n",
    "The output should look something like this:\n",
    "\n",
    "<img src=\"assets/ex10.png\"\n",
    "     alt=\"Barchart example\"/>\n",
    "\n",
    "PS: Disregard the color scheme of the example image."
   ]
  },
  {
   "cell_type": "code",
   "execution_count": 352,
   "metadata": {
    "pycharm": {
     "name": "#%%\n"
    }
   },
   "outputs": [],
   "source": [
    "# Creating a new dataframe for states and cities, in additien to the value counts for each\n",
    "top_states = pd.DataFrame(df.state.value_counts().reset_index().values, columns=['state', 'count'])\n",
    "top_states = top_states.sort_values(by=['count'], ascending=False)\n",
    "\n",
    "top_cities = pd.DataFrame(df.city.value_counts().reset_index().values, columns=['city', 'count'])\n",
    "top_cities = top_cities.sort_values(by=['count'], ascending=False)"
   ]
  },
  {
   "cell_type": "code",
   "execution_count": 353,
   "metadata": {
    "pycharm": {
     "name": "#%%\n"
    }
   },
   "outputs": [
    {
     "data": {
      "text/plain": "<Figure size 576x504 with 2 Axes>",
      "image/png": "[encoded data removed]"
     },
     "metadata": {
      "needs_background": "light"
     },
     "output_type": "display_data"
    }
   ],
   "source": [
    "# Using subplots() to create a figure and a grid of subplots\n",
    "# The specified parameters will apply for all added plots\n",
    "\n",
    "fig, ax = plt.subplots(2, 1, figsize=(8, 7))\n",
    "sns.barplot(data=top_states.head(10), x='state', y='count', ax=ax[0])\n",
    "sns.barplot(data=top_cities.head(10), x='city', y='count', ax=ax[1])\n",
    "plt.xticks(rotation=45)\n",
    "plt.show()\n"
   ]
  },
  {
   "cell_type": "markdown",
   "metadata": {
    "pycharm": {
     "name": "#%% md\n"
    }
   },
   "source": [
    "__11. Create a scatterplot with the longitude and latitude of the listings in `df`. Longitude should be on the x-axis and latitude on the y-axis.__ \n",
    "\n",
    "The output should look something like this:\n",
    "\n",
    "<img src=\"assets/ex11.png\"\n",
    "     alt=\"Scatterplot example\"/>\n",
    "\n",
    "PS: Disregard the color scheme of the example image."
   ]
  },
  {
   "cell_type": "code",
   "execution_count": 354,
   "metadata": {
    "pycharm": {
     "name": "#%%\n"
    }
   },
   "outputs": [
    {
     "data": {
      "text/plain": "<AxesSubplot:xlabel='longitude', ylabel='latitude'>"
     },
     "execution_count": 354,
     "metadata": {},
     "output_type": "execute_result"
    },
    {
     "data": {
      "text/plain": "<Figure size 576x432 with 1 Axes>",
      "image/png": "[encoded data removed]"
     },
     "metadata": {
      "needs_background": "light"
     },
     "output_type": "display_data"
    }
   ],
   "source": [
    "# Using scatterplot() from seaborn \n",
    "# Specifying hue='state', meaning that datapoints will be grouped and colored based on the state.\n",
    "\n",
    "fig, ax = plt.subplots(figsize=(8,6)) \n",
    "fig.suptitle('Scatterplot with longitude and latitude of listings')\n",
    "sns.scatterplot(data=df, x='longitude', y ='latitude', hue='state', legend=False, ax=ax)"
   ]
  },
  {
   "cell_type": "markdown",
   "metadata": {
    "pycharm": {
     "name": "#%% md\n"
    }
   },
   "source": [
    "__12. Create a matrix containing the correlations between the different columns in `df`. Plot it as a heatmap using Seaborn or similar. What does the plot tell you about correlations? Which columns are the most correlated to `price`?__"
   ]
  },
  {
   "cell_type": "code",
   "execution_count": 355,
   "metadata": {
    "pycharm": {
     "name": "#%%\n"
    }
   },
   "outputs": [
    {
     "data": {
      "text/plain": "<AxesSubplot:>"
     },
     "execution_count": 355,
     "metadata": {},
     "output_type": "execute_result"
    },
    {
     "data": {
      "text/plain": "<Figure size 1080x720 with 2 Axes>",
      "image/png": "[encoded data removed]"
     },
     "metadata": {
      "needs_background": "light"
     },
     "output_type": "display_data"
    }
   ],
   "source": [
    "# Increasing the size of the heatmap and adding a label\n",
    "fig, ax = plt.subplots(figsize=(15,10))\n",
    "fig.suptitle('Heatmap of correlations between columns in df')\n",
    "\n",
    "# Plotting the existing correlations between the different columns. Setting annot = True to view datavalues in each cell.\n",
    "sns.heatmap(df.corr(), annot=True, linewidth=.3, cmap=sns.cubehelix_palette(as_cmap=True), ax=ax)"
   ]
  },
  {
   "cell_type": "markdown",
   "metadata": {
    "pycharm": {
     "name": "#%% md\n"
    }
   },
   "source": [
    "In the heatmap above we observe the correlation between the different columns in the dataframe `df`. The darker the color, the higher the correlation is. \n",
    "\n",
    "We can see that there is a high colleration between `number_of_reviewers_ltm` and `number_of_reviews`, as well as `calculated_host_listings_count` and `availability_365`, and `longitude` and `latitude`.\n",
    "\n",
    "Looking at the `price`-column, the column which is most correlated to this one is `calculated_host_listings_count`. "
   ]
  }
 ],
 "metadata": {
  "kernelspec": {
   "display_name": "Python 3",
   "language": "python",
   "name": "python3"
  },
  "language_info": {
   "codemirror_mode": {
    "name": "ipython",
    "version": 3
   },
   "file_extension": ".py",
   "mimetype": "text/x-python",
   "name": "python",
   "nbconvert_exporter": "python",
   "pygments_lexer": "ipython3",
   "version": "3.8.8"
  },
  "vscode": {
   "authors": [
    {
     "name": "Tonje Martine Lorgen Kirkholt"
    }
   ],
   "interpreter": {
    "hash": "64c454191da68aae78a1958feb08cae1f714f347888099e6a2df204eeb298eaa"
   },
   "title": "DAT200: Compulsory Assignment 1 - Pandas and Visualizations"
  }
 },
 "nbformat": 4,
 "nbformat_minor": 2
}