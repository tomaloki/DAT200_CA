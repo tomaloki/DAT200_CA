{
 "cells": [
  {
   "cell_type": "markdown",
   "id": "cec27a24",
   "metadata": {},
   "source": [
    "# DAT200: Applied Machine Learning"
   ]
  },
  {
   "cell_type": "markdown",
   "id": "91a3fca3",
   "metadata": {},
   "source": [
    "## Compulsory Assignment 1 - Pandas and visualizations"
   ]
  },
  {
   "cell_type": "markdown",
   "id": "6e7f245b",
   "metadata": {},
   "source": [
    "#### Imports"
   ]
  },
  {
   "cell_type": "code",
   "execution_count": 1,
   "id": "48119170",
   "metadata": {
    "pycharm": {
     "name": "#%%\n"
    }
   },
   "outputs": [],
   "source": [
    "import pandas as pd\n",
    "import numpy as np\n",
    "import seaborn as sns\n",
    "import matplotlib.pyplot as plt\n",
    "\n",
    "from tabulate import tabulate"
   ]
  },
  {
   "cell_type": "markdown",
   "id": "5dcb3ac6",
   "metadata": {},
   "source": [
    "### Loading and exploring the dataset"
   ]
  },
  {
   "cell_type": "markdown",
   "id": "30282108",
   "metadata": {},
   "source": [
    "---"
   ]
  },
  {
   "cell_type": "markdown",
   "id": "1d5af7a0",
   "metadata": {},
   "source": [
    "### 1. Load the dataset named airbnd.csv and store it in a dataframe called raw_df. Use the column named id as the index column fro the dataframe"
   ]
  },
  {
   "cell_type": "code",
   "execution_count": 2,
   "id": "55e2f35e",
   "metadata": {
    "pycharm": {
     "name": "#%%\n"
    }
   },
   "outputs": [],
   "source": [
    "raw_df = pd.read_csv('assets/airbnb.csv')"
   ]
  },
  {
   "cell_type": "code",
   "execution_count": 3,
   "id": "dfa7e1ea",
   "metadata": {
    "pycharm": {
     "name": "#%%\n"
    }
   },
   "outputs": [],
   "source": [
    "raw_df = raw_df.set_index('id')"
   ]
  },
  {
   "cell_type": "markdown",
   "id": "b3be85db",
   "metadata": {},
   "source": [
    "### 2. Print the first five rows of the dataframe"
   ]
  },
  {
   "cell_type": "code",
   "execution_count": 4,
   "id": "3d6b941e",
   "metadata": {
    "pycharm": {
     "name": "#%%\n"
    }
   },
   "outputs": [
    {
     "data": {
      "text/html": [
       "<div>\n",
       "<style scoped>\n",
       "    .dataframe tbody tr th:only-of-type {\n",
       "        vertical-align: middle;\n",
       "    }\n",
       "\n",
       "    .dataframe tbody tr th {\n",
       "        vertical-align: top;\n",
       "    }\n",
       "\n",
       "    .dataframe thead th {\n",
       "        text-align: right;\n",
       "    }\n",
       "</style>\n",
       "<table border=\"1\" class=\"dataframe\">\n",
       "  <thead>\n",
       "    <tr style=\"text-align: right;\">\n",
       "      <th></th>\n",
       "      <th>name</th>\n",
       "      <th>host_id</th>\n",
       "      <th>host_name</th>\n",
       "      <th>neighbourhood</th>\n",
       "      <th>latitude</th>\n",
       "      <th>longitude</th>\n",
       "      <th>room_type</th>\n",
       "      <th>price</th>\n",
       "      <th>minimum_nights</th>\n",
       "      <th>number_of_reviews</th>\n",
       "      <th>calculated_host_listings_count</th>\n",
       "      <th>availability_365</th>\n",
       "      <th>number_of_reviews_ltm</th>\n",
       "      <th>state</th>\n",
       "      <th>city</th>\n",
       "    </tr>\n",
       "    <tr>\n",
       "      <th>id</th>\n",
       "      <th></th>\n",
       "      <th></th>\n",
       "      <th></th>\n",
       "      <th></th>\n",
       "      <th></th>\n",
       "      <th></th>\n",
       "      <th></th>\n",
       "      <th></th>\n",
       "      <th></th>\n",
       "      <th></th>\n",
       "      <th></th>\n",
       "      <th></th>\n",
       "      <th></th>\n",
       "      <th></th>\n",
       "      <th></th>\n",
       "    </tr>\n",
       "  </thead>\n",
       "  <tbody>\n",
       "    <tr>\n",
       "      <th>183319</th>\n",
       "      <td>Panoramic Ocean View Venice Beach</td>\n",
       "      <td>867995</td>\n",
       "      <td>Barbara X</td>\n",
       "      <td>Venice</td>\n",
       "      <td>33.99211</td>\n",
       "      <td>-118.47600</td>\n",
       "      <td>Entire home/apt</td>\n",
       "      <td>152</td>\n",
       "      <td>30</td>\n",
       "      <td>3</td>\n",
       "      <td>2</td>\n",
       "      <td>0</td>\n",
       "      <td>0</td>\n",
       "      <td>CA</td>\n",
       "      <td>Los Angeles</td>\n",
       "    </tr>\n",
       "    <tr>\n",
       "      <th>109</th>\n",
       "      <td>Amazing bright elegant condo park front *UPGRA...</td>\n",
       "      <td>521</td>\n",
       "      <td>Paolo</td>\n",
       "      <td>Culver City</td>\n",
       "      <td>33.98301</td>\n",
       "      <td>-118.38607</td>\n",
       "      <td>Entire home/apt</td>\n",
       "      <td>115</td>\n",
       "      <td>30</td>\n",
       "      <td>2</td>\n",
       "      <td>1</td>\n",
       "      <td>139</td>\n",
       "      <td>0</td>\n",
       "      <td>CA</td>\n",
       "      <td>Los Angeles</td>\n",
       "    </tr>\n",
       "    <tr>\n",
       "      <th>51307</th>\n",
       "      <td>Spanish Bungalow Guest House LA CA. 30 plus ni...</td>\n",
       "      <td>235568</td>\n",
       "      <td>David</td>\n",
       "      <td>Atwater Village</td>\n",
       "      <td>34.12206</td>\n",
       "      <td>-118.26783</td>\n",
       "      <td>Entire home/apt</td>\n",
       "      <td>75</td>\n",
       "      <td>30</td>\n",
       "      <td>138</td>\n",
       "      <td>2</td>\n",
       "      <td>224</td>\n",
       "      <td>0</td>\n",
       "      <td>CA</td>\n",
       "      <td>Los Angeles</td>\n",
       "    </tr>\n",
       "    <tr>\n",
       "      <th>184314</th>\n",
       "      <td>Boho Chic Flat..Steps to Beach!</td>\n",
       "      <td>884031</td>\n",
       "      <td>Ashley</td>\n",
       "      <td>Venice</td>\n",
       "      <td>33.97487</td>\n",
       "      <td>-118.46312</td>\n",
       "      <td>Entire home/apt</td>\n",
       "      <td>125</td>\n",
       "      <td>30</td>\n",
       "      <td>30</td>\n",
       "      <td>1</td>\n",
       "      <td>0</td>\n",
       "      <td>0</td>\n",
       "      <td>CA</td>\n",
       "      <td>Los Angeles</td>\n",
       "    </tr>\n",
       "    <tr>\n",
       "      <th>51498</th>\n",
       "      <td>Guest House With Its Own Entrance/Exit and Hot...</td>\n",
       "      <td>236758</td>\n",
       "      <td>Bay</td>\n",
       "      <td>Mar Vista</td>\n",
       "      <td>34.00389</td>\n",
       "      <td>-118.44126</td>\n",
       "      <td>Entire home/apt</td>\n",
       "      <td>189</td>\n",
       "      <td>3</td>\n",
       "      <td>378</td>\n",
       "      <td>1</td>\n",
       "      <td>348</td>\n",
       "      <td>41</td>\n",
       "      <td>CA</td>\n",
       "      <td>Los Angeles</td>\n",
       "    </tr>\n",
       "  </tbody>\n",
       "</table>\n",
       "</div>"
      ],
      "text/plain": [
       "                                                     name  host_id  host_name  \\\n",
       "id                                                                              \n",
       "183319                  Panoramic Ocean View Venice Beach   867995  Barbara X   \n",
       "109     Amazing bright elegant condo park front *UPGRA...      521      Paolo   \n",
       "51307   Spanish Bungalow Guest House LA CA. 30 plus ni...   235568      David   \n",
       "184314                    Boho Chic Flat..Steps to Beach!   884031     Ashley   \n",
       "51498   Guest House With Its Own Entrance/Exit and Hot...   236758        Bay   \n",
       "\n",
       "          neighbourhood  latitude  longitude        room_type  price  \\\n",
       "id                                                                     \n",
       "183319           Venice  33.99211 -118.47600  Entire home/apt    152   \n",
       "109         Culver City  33.98301 -118.38607  Entire home/apt    115   \n",
       "51307   Atwater Village  34.12206 -118.26783  Entire home/apt     75   \n",
       "184314           Venice  33.97487 -118.46312  Entire home/apt    125   \n",
       "51498         Mar Vista  34.00389 -118.44126  Entire home/apt    189   \n",
       "\n",
       "        minimum_nights  number_of_reviews  calculated_host_listings_count  \\\n",
       "id                                                                          \n",
       "183319              30                  3                               2   \n",
       "109                 30                  2                               1   \n",
       "51307               30                138                               2   \n",
       "184314              30                 30                               1   \n",
       "51498                3                378                               1   \n",
       "\n",
       "        availability_365  number_of_reviews_ltm state         city  \n",
       "id                                                                  \n",
       "183319                 0                      0    CA  Los Angeles  \n",
       "109                  139                      0    CA  Los Angeles  \n",
       "51307                224                      0    CA  Los Angeles  \n",
       "184314                 0                      0    CA  Los Angeles  \n",
       "51498                348                     41    CA  Los Angeles  "
      ]
     },
     "execution_count": 4,
     "metadata": {},
     "output_type": "execute_result"
    }
   ],
   "source": [
    "raw_df.head(5)"
   ]
  },
  {
   "cell_type": "markdown",
   "id": "27904b2f",
   "metadata": {},
   "source": [
    "### 3. How many unique values exist in each of the columns *state* and *city*?"
   ]
  },
  {
   "cell_type": "code",
   "execution_count": 5,
   "id": "cb1e40cc",
   "metadata": {
    "pycharm": {
     "name": "#%%\n"
    }
   },
   "outputs": [
    {
     "data": {
      "text/plain": [
       "array(['CA', 'CO', 'DC', 'FL', 'HI', 'IL', 'LA', 'MA', 'MN', 'NC', 'NJ',\n",
       "       'NV', 'NY', 'OH', 'OR', 'RI', 'TN', 'TX', 'WA'], dtype=object)"
      ]
     },
     "execution_count": 5,
     "metadata": {},
     "output_type": "execute_result"
    }
   ],
   "source": [
    "raw_df.state.unique()"
   ]
  },
  {
   "cell_type": "code",
   "execution_count": 6,
   "id": "cfa8a056",
   "metadata": {
    "pycharm": {
     "name": "#%%\n"
    }
   },
   "outputs": [
    {
     "data": {
      "text/plain": [
       "array(['Los Angeles', 'Oakland', 'Pacific Grove', 'San Diego',\n",
       "       'San Francisco', 'San Mateo County', 'Santa Clara County',\n",
       "       'Santa Cruz County', 'Denver', 'Washington D.C.', 'Broward',\n",
       "       'Hawaii', 'Chicago', 'New Orleans', 'Boston', 'Cambridge',\n",
       "       'Twin Cities MSA', 'Asheville', 'Jersey City', 'Newark',\n",
       "       'Clark County', 'New York City', 'Columbus', 'Portland', 'Salem',\n",
       "       'Rhode Island', 'Nashville', 'Austin', 'Dallas', 'Fort Worth',\n",
       "       'Seattle'], dtype=object)"
      ]
     },
     "execution_count": 6,
     "metadata": {},
     "output_type": "execute_result"
    }
   ],
   "source": [
    "raw_df.city.unique()"
   ]
  },
  {
   "cell_type": "markdown",
   "id": "7b39f135",
   "metadata": {},
   "source": [
    "### 4. Identify missing (NaN) values in each of the columns in the dataset"
   ]
  },
  {
   "cell_type": "code",
   "execution_count": 7,
   "id": "91434d32",
   "metadata": {
    "pycharm": {
     "name": "#%%\n"
    }
   },
   "outputs": [
    {
     "data": {
      "text/plain": [
       "name                                19\n",
       "host_id                              0\n",
       "host_name                         1144\n",
       "neighbourhood                      712\n",
       "latitude                             0\n",
       "longitude                            0\n",
       "room_type                            0\n",
       "price                                0\n",
       "minimum_nights                       0\n",
       "number_of_reviews                    0\n",
       "calculated_host_listings_count       0\n",
       "availability_365                     0\n",
       "number_of_reviews_ltm                0\n",
       "state                                0\n",
       "city                                 0\n",
       "dtype: int64"
      ]
     },
     "execution_count": 7,
     "metadata": {},
     "output_type": "execute_result"
    }
   ],
   "source": [
    "raw_df.isna().sum()"
   ]
  },
  {
   "cell_type": "markdown",
   "id": "e1cf46b8",
   "metadata": {},
   "source": [
    "#### 5. Create a copy of *raw_df* named df. Remove any rows containing NaN values in the new dataframe. What is the shape of df before and after removing the NaN values?"
   ]
  },
  {
   "cell_type": "code",
   "execution_count": 8,
   "id": "474754a6",
   "metadata": {
    "pycharm": {
     "name": "#%%\n"
    }
   },
   "outputs": [
    {
     "data": {
      "text/plain": [
       "name                              0\n",
       "host_id                           0\n",
       "host_name                         0\n",
       "neighbourhood                     0\n",
       "latitude                          0\n",
       "longitude                         0\n",
       "room_type                         0\n",
       "price                             0\n",
       "minimum_nights                    0\n",
       "number_of_reviews                 0\n",
       "calculated_host_listings_count    0\n",
       "availability_365                  0\n",
       "number_of_reviews_ltm             0\n",
       "state                             0\n",
       "city                              0\n",
       "dtype: int64"
      ]
     },
     "execution_count": 8,
     "metadata": {},
     "output_type": "execute_result"
    }
   ],
   "source": [
    "df = raw_df\n",
    "df = df.dropna()\n",
    "df.isna().sum()"
   ]
  },
  {
   "cell_type": "code",
   "execution_count": 9,
   "id": "41a2b530",
   "metadata": {
    "pycharm": {
     "name": "#%%\n"
    }
   },
   "outputs": [
    {
     "name": "stdout",
     "output_type": "stream",
     "text": [
      "<class 'pandas.core.frame.DataFrame'>\n",
      "Int64Index: 325858 entries, 183319 to 51193080\n",
      "Data columns (total 15 columns):\n",
      " #   Column                          Non-Null Count   Dtype  \n",
      "---  ------                          --------------   -----  \n",
      " 0   name                            325839 non-null  object \n",
      " 1   host_id                         325858 non-null  int64  \n",
      " 2   host_name                       324714 non-null  object \n",
      " 3   neighbourhood                   325146 non-null  object \n",
      " 4   latitude                        325858 non-null  float64\n",
      " 5   longitude                       325858 non-null  float64\n",
      " 6   room_type                       325858 non-null  object \n",
      " 7   price                           325858 non-null  int64  \n",
      " 8   minimum_nights                  325858 non-null  int64  \n",
      " 9   number_of_reviews               325858 non-null  int64  \n",
      " 10  calculated_host_listings_count  325858 non-null  int64  \n",
      " 11  availability_365                325858 non-null  int64  \n",
      " 12  number_of_reviews_ltm           325858 non-null  int64  \n",
      " 13  state                           325858 non-null  object \n",
      " 14  city                            325858 non-null  object \n",
      "dtypes: float64(2), int64(7), object(6)\n",
      "memory usage: 39.8+ MB\n"
     ]
    }
   ],
   "source": [
    "raw_df.info()"
   ]
  },
  {
   "cell_type": "code",
   "execution_count": 10,
   "id": "b5105634",
   "metadata": {
    "pycharm": {
     "name": "#%%\n"
    }
   },
   "outputs": [
    {
     "name": "stdout",
     "output_type": "stream",
     "text": [
      "<class 'pandas.core.frame.DataFrame'>\n",
      "Int64Index: 323983 entries, 183319 to 51193080\n",
      "Data columns (total 15 columns):\n",
      " #   Column                          Non-Null Count   Dtype  \n",
      "---  ------                          --------------   -----  \n",
      " 0   name                            323983 non-null  object \n",
      " 1   host_id                         323983 non-null  int64  \n",
      " 2   host_name                       323983 non-null  object \n",
      " 3   neighbourhood                   323983 non-null  object \n",
      " 4   latitude                        323983 non-null  float64\n",
      " 5   longitude                       323983 non-null  float64\n",
      " 6   room_type                       323983 non-null  object \n",
      " 7   price                           323983 non-null  int64  \n",
      " 8   minimum_nights                  323983 non-null  int64  \n",
      " 9   number_of_reviews               323983 non-null  int64  \n",
      " 10  calculated_host_listings_count  323983 non-null  int64  \n",
      " 11  availability_365                323983 non-null  int64  \n",
      " 12  number_of_reviews_ltm           323983 non-null  int64  \n",
      " 13  state                           323983 non-null  object \n",
      " 14  city                            323983 non-null  object \n",
      "dtypes: float64(2), int64(7), object(6)\n",
      "memory usage: 39.5+ MB\n"
     ]
    }
   ],
   "source": [
    "df.info()"
   ]
  },
  {
   "cell_type": "markdown",
   "id": "db173cce",
   "metadata": {},
   "source": [
    "### 6. Which room_type, state and city is the most popular (by number of instances)? Print the name and count of each"
   ]
  },
  {
   "cell_type": "code",
   "execution_count": 11,
   "id": "ca28a0b4",
   "metadata": {
    "pycharm": {
     "name": "#%%\n"
    }
   },
   "outputs": [],
   "source": [
    "most_pop_roomType = df.room_type.value_counts()"
   ]
  },
  {
   "cell_type": "code",
   "execution_count": 12,
   "id": "e7f74890",
   "metadata": {
    "pycharm": {
     "name": "#%%\n"
    }
   },
   "outputs": [
    {
     "name": "stdout",
     "output_type": "stream",
     "text": [
      "Column: room_type , Most popular: Entire home/apt , Count:  241433\n",
      "Column: state Most popular: CA , Count:  127206\n",
      "Column: city , Most popular: Los Angeles , Count:  91600\n"
     ]
    }
   ],
   "source": [
    "print('Column:', df.columns[6], ', Most popular:', df.room_type.mode()[0], ', Count: ', df.room_type.value_counts().max())\n",
    "print('Column:', df.columns[13], 'Most popular:', df.state.mode()[0], ', Count: ', df.state.value_counts().max())\n",
    "print('Column:', df.columns[14], ', Most popular:', df.city.mode()[0], ', Count: ', df.city.value_counts().max())\n"
   ]
  },
  {
   "cell_type": "markdown",
   "id": "233ef809",
   "metadata": {},
   "source": [
    "##### Creating a table using the tabulate module to get a nicer output"
   ]
  },
  {
   "cell_type": "code",
   "execution_count": 13,
   "id": "40879e68",
   "metadata": {
    "pycharm": {
     "name": "#%%\n"
    }
   },
   "outputs": [],
   "source": [
    "dict = {'Column':[df.columns[6], df.columns[13], df.columns[14]],\n",
    "       'Most popular':[df.room_type.mode()[0], df.state.mode()[0], df.city.mode()[0]],\n",
    "       'Count': [df.room_type.value_counts().max(), df.state.value_counts().max(), df.city.value_counts().max()]}"
   ]
  },
  {
   "cell_type": "code",
   "execution_count": 14,
   "id": "79662e65",
   "metadata": {
    "pycharm": {
     "name": "#%%\n"
    }
   },
   "outputs": [],
   "source": [
    "table_result = pd.DataFrame(dict)"
   ]
  },
  {
   "cell_type": "code",
   "execution_count": 15,
   "id": "21304cde",
   "metadata": {
    "pycharm": {
     "name": "#%%\n"
    }
   },
   "outputs": [
    {
     "name": "stdout",
     "output_type": "stream",
     "text": [
      "    | Column    | Most popular    |   Count\n",
      "----+-----------+-----------------+---------\n",
      "  0 | room_type | Entire home/apt |  241433\n",
      "  1 | state     | CA              |  127206\n",
      "  2 | city      | Los Angeles     |   91600\n"
     ]
    }
   ],
   "source": [
    "print(tabulate(table_result, headers = 'keys', tablefmt = 'presto'))"
   ]
  },
  {
   "cell_type": "markdown",
   "id": "2f078019",
   "metadata": {
    "pycharm": {
     "name": "#%%\n"
    }
   },
   "source": [
    "###  7. What is the average and median price for a listing?"
   ]
  },
  {
   "cell_type": "code",
   "execution_count": 16,
   "id": "8615d569",
   "metadata": {},
   "outputs": [
    {
     "name": "stdout",
     "output_type": "stream",
     "text": [
      "Average price for a listing: 285.13\n"
     ]
    }
   ],
   "source": [
    "average_listing_price = round(df.loc[:, 'price'].mean(), 2)\n",
    "print('Average price for a listing:', average_listing_price)"
   ]
  },
  {
   "cell_type": "code",
   "execution_count": 17,
   "id": "f500f8ff",
   "metadata": {},
   "outputs": [
    {
     "name": "stdout",
     "output_type": "stream",
     "text": [
      "Median price for a listing: 159.0\n"
     ]
    }
   ],
   "source": [
    "median_listing_price = round(df.loc[:, 'price'].median(), 2)\n",
    "print('Median price for a listing:', median_listing_price)"
   ]
  },
  {
   "cell_type": "markdown",
   "id": "de671d4b",
   "metadata": {},
   "source": [
    "##  8. What is the average price for the states CA, FL and NY?"
   ]
  },
  {
   "cell_type": "code",
   "execution_count": 18,
   "id": "4540b47c",
   "metadata": {},
   "outputs": [],
   "source": [
    "state_price = df[['state', 'price']]\n",
    "states = ['CA', 'FL', 'NY']\n",
    "state_price = state_price.loc[df['state'].isin(states)]"
   ]
  },
  {
   "cell_type": "code",
   "execution_count": 19,
   "id": "e611b884",
   "metadata": {},
   "outputs": [],
   "source": [
    "avg_CA = state_price.loc[state_price['state'] == 'CA']\n",
    "avg_CA = round(avg_CA['price'].mean(), 2)\n",
    "\n",
    "avg_FL = state_price.loc[state_price['state'] == 'FL']\n",
    "avg_FL = round(avg_FL['price'].mean(), 2)\n",
    "\n",
    "avg_NY = state_price.loc[state_price['state'] == 'NY']\n",
    "avg_NY = round(avg_NY['price'].mean(), 2)"
   ]
  },
  {
   "cell_type": "code",
   "execution_count": 20,
   "id": "7bb1e2ec",
   "metadata": {},
   "outputs": [],
   "source": [
    "\n",
    "dict = {'State': ['CA', 'FL', 'NY'],\n",
    "       'Average price': [avg_CA, avg_FL, avg_NY]}\n",
    "table_result = pd.DataFrame(dict)"
   ]
  },
  {
   "cell_type": "code",
   "execution_count": 21,
   "id": "c4afb8a0",
   "metadata": {},
   "outputs": [
    {
     "name": "stdout",
     "output_type": "stream",
     "text": [
      "    | State   |   Average price\n",
      "----+---------+-----------------\n",
      "  0 | CA      |          288.4\n",
      "  1 | FL      |          241.99\n",
      "  2 | NY      |          197.22\n"
     ]
    }
   ],
   "source": [
    "print(tabulate(table_result, headers = 'keys', tablefmt = 'presto'))"
   ]
  },
  {
   "cell_type": "code",
   "execution_count": null,
   "id": "e6e3f234",
   "metadata": {},
   "outputs": [],
   "source": []
  }
 ],
 "metadata": {
  "kernelspec": {
   "display_name": "Python 3",
   "language": "python",
   "name": "python3"
  },
  "language_info": {
   "codemirror_mode": {
    "name": "ipython",
    "version": 3
   },
   "file_extension": ".py",
   "mimetype": "text/x-python",
   "name": "python",
   "nbconvert_exporter": "python",
   "pygments_lexer": "ipython3",
   "version": "3.8.8"
  }
 },
 "nbformat": 4,
 "nbformat_minor": 5
}